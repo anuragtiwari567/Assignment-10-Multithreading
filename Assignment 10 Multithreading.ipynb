{
 "cells": [
  {
   "cell_type": "markdown",
   "id": "bb61372a-b56c-4f33-a47d-a2af65711941",
   "metadata": {},
   "source": [
    "Q1. What is multithreading in python? Why is it used? Name the module used to handle threads in python\n",
    "\n",
    "ANS:\n",
    "\n",
    "Multithreading in Python refers to the concurrent execution of multiple threads within a single process. A thread is the smallest unit of execution in a program. Multithreading allows you to write programs that can perform multiple tasks concurrently, improving performance by taking advantage of multi-core processors and handling concurrent operations efficiently.\n",
    "\n",
    "### Why is Multithreading Used in Python?\n",
    "\n",
    "1. Concurrency: Multithreading is used to achieve concurrency, where multiple threads run independently and perform tasks concurrently. This can lead to better CPU utilization and improved responsiveness in applications.\n",
    "\n",
    "2. Parallelism: On multi-core processors, multithreading enables parallelism by allowing multiple threads to execute simultaneously on different cores, potentially speeding up CPU-bound tasks.\n",
    "\n",
    "3. Responsive User Interfaces: Multithreading can keep the user interface of an application responsive while performing background tasks, such as file downloads or data processing.\n",
    "\n",
    "4. IO-bound Operations: It's particularly useful for IO-bound operations like reading/writing files, making network requests, or interacting with databases, where threads can perform IO operations while other threads continue executing.\n",
    "\n",
    "5. Task Decomposition: It simplifies task decomposition, allowing you to break complex tasks into smaller, manageable threads that run concurrently.\n",
    "\n",
    "-> Module for Handling Threads in Python:\n",
    "In Python, the threading module is commonly used to handle threads. This module provides a high-level interface for creating and managing threads, making it easier to work with multithreading in Python."
   ]
  },
  {
   "cell_type": "code",
   "execution_count": 1,
   "id": "65e5af69-0461-42cd-b3e4-c70e5889ab81",
   "metadata": {},
   "outputs": [
    {
     "name": "stdout",
     "output_type": "stream",
     "text": [
      "Number: 1\n",
      "Number: 2\n",
      "Number: 3\n",
      "Number: 4\n",
      "Number: 5\n",
      "Letter: a\n",
      "Letter: b\n",
      "Letter: c\n",
      "Letter: d\n",
      "Letter: e\n",
      "Both threads have finished.\n"
     ]
    }
   ],
   "source": [
    "import threading\n",
    "\n",
    "def print_numbers():\n",
    "    for i in range(1, 6):\n",
    "        print(f\"Number: {i}\")\n",
    "\n",
    "def print_letters():\n",
    "    for letter in 'abcde':\n",
    "        print(f\"Letter: {letter}\")\n",
    "\n",
    "\n",
    "thread1 = threading.Thread(target=print_numbers)\n",
    "thread2 = threading.Thread(target=print_letters)\n",
    "\n",
    "\n",
    "thread1.start()\n",
    "thread2.start()\n",
    "\n",
    "\n",
    "thread1.join()\n",
    "thread2.join()\n",
    "\n",
    "print(\"Both threads have finished.\")\n"
   ]
  },
  {
   "cell_type": "code",
   "execution_count": null,
   "id": "153b1b97-d024-46e8-87d1-072f732df2a6",
   "metadata": {},
   "outputs": [],
   "source": []
  },
  {
   "cell_type": "markdown",
   "id": "3cd5f9e3-6812-4156-955c-c3b91592d03a",
   "metadata": {},
   "source": [
    "Q2.Why threading module used? Write the use of the following functions\n",
    "1. activeCount\n",
    "2. currentThread\n",
    "3. enumerate\n",
    "\n",
    "ANS:\n",
    "\n",
    "The threading module in Python is used for managing threads in multithreaded applications. \n",
    "\n",
    "1. activeCount(): This function provides the count of currently active Thread objects, allowing you to monitor the number of threads executing concurrently in your program.\n",
    "\n",
    "2. currentThread(): It returns the Thread object representing the currently executing thread, providing access to thread-specific information and actions.\n",
    "\n",
    "3. enumerate(): This function returns a list of all active Thread objects, allowing you to inspect and manage the state of running threads."
   ]
  },
  {
   "cell_type": "code",
   "execution_count": 2,
   "id": "b9193f7c-7d0a-46a6-9c08-86ab9c54c7ab",
   "metadata": {},
   "outputs": [
    {
     "name": "stdout",
     "output_type": "stream",
     "text": [
      "Thread Thread 1 is working.\n",
      "Thread Thread 2 is working.\n",
      "Number of active threads: 8\n",
      "Active Thread: MainThread\n",
      "Active Thread: IOPub\n",
      "Active Thread: Heartbeat\n",
      "Active Thread: Thread-3 (_watch_pipe_fd)\n",
      "Active Thread: Thread-4 (_watch_pipe_fd)\n",
      "Active Thread: Control\n",
      "Active Thread: IPythonHistorySavingThread\n",
      "Active Thread: Thread-2\n",
      "Main thread finishes.\n"
     ]
    }
   ],
   "source": [
    "import threading\n",
    "\n",
    "# Function to run in threads\n",
    "def worker_function():\n",
    "    print(f\"Thread {threading.current_thread().name} is working.\")\n",
    "\n",
    "# Create and start two threads\n",
    "thread1 = threading.Thread(target=worker_function, name=\"Thread 1\")\n",
    "thread2 = threading.Thread(target=worker_function, name=\"Thread 2\")\n",
    "thread1.start()\n",
    "thread2.start()\n",
    "\n",
    "# Wait for both threads to finish\n",
    "thread1.join()\n",
    "thread2.join()\n",
    "\n",
    "# Function to demonstrate activeCount()\n",
    "def show_active_count():\n",
    "    num_active_threads = threading.active_count()\n",
    "    print(f\"Number of active threads: {num_active_threads}\")\n",
    "\n",
    "# Function to demonstrate enumerate()\n",
    "def show_active_threads():\n",
    "    active_threads = threading.enumerate()\n",
    "    for thread in active_threads:\n",
    "        print(f\"Active Thread: {thread.name}\")\n",
    "\n",
    "# Demonstrate activeCount() and enumerate()\n",
    "show_active_count()\n",
    "show_active_threads()\n",
    "\n",
    "print(\"Main thread finishes.\")\n"
   ]
  },
  {
   "cell_type": "code",
   "execution_count": null,
   "id": "5ef0e634-b10a-4a62-b2fe-7cc6f776d837",
   "metadata": {},
   "outputs": [],
   "source": [
    "\n"
   ]
  },
  {
   "cell_type": "markdown",
   "id": "0a93d7e2-189b-4d77-9608-46351140e4b4",
   "metadata": {},
   "source": [
    "Q3. Explain the following functions:\n",
    "1. run()\n",
    "2. start()\n",
    "3. join()\n",
    "4. isAlive()\n",
    "\n",
    "ANS:\n",
    "\n",
    "1. run(): The run() method is called when you invoke start() on a thread object. It contains the code that will run in the thread.\n"
   ]
  },
  {
   "cell_type": "code",
   "execution_count": 3,
   "id": "42b34365-3d3e-481b-badc-024602a48f24",
   "metadata": {},
   "outputs": [
    {
     "name": "stdout",
     "output_type": "stream",
     "text": [
      "Thread is running\n"
     ]
    }
   ],
   "source": [
    "class MyThread(threading.Thread):\n",
    "    def run(self):\n",
    "        print(\"Thread is running\")\n",
    "\n",
    "thread = MyThread()\n",
    "thread.start() \n"
   ]
  },
  {
   "cell_type": "markdown",
   "id": "46a5fb0a-2e68-4902-8cf0-ffbc264809a9",
   "metadata": {},
   "source": [
    "2. start(): The start() method initiates the execution of a thread by calling its run() method. It does not run the run() method directly but rather starts a new thread of execution."
   ]
  },
  {
   "cell_type": "code",
   "execution_count": 4,
   "id": "60cf4f09-704b-40df-8dda-706f61c4a457",
   "metadata": {},
   "outputs": [
    {
     "name": "stdout",
     "output_type": "stream",
     "text": [
      "Thread Thread-8 (worker_function) is working.\n"
     ]
    }
   ],
   "source": [
    "thread = threading.Thread(target=worker_function)\n",
    "thread.start() \n"
   ]
  },
  {
   "cell_type": "markdown",
   "id": "adede140-36f5-41ef-b1a2-db36083a2467",
   "metadata": {},
   "source": [
    "3. join(): The join() method is used to wait for a thread to complete its execution. The calling thread will block until the specified thread (on which join() is called) has finished running. The optional timeout parameter specifies the maximum time to wait."
   ]
  },
  {
   "cell_type": "code",
   "execution_count": 5,
   "id": "e2f09348-a737-4c29-9085-956667dc6c93",
   "metadata": {},
   "outputs": [
    {
     "name": "stdout",
     "output_type": "stream",
     "text": [
      "Thread Thread-9 (worker_function) is working.\n"
     ]
    }
   ],
   "source": [
    "thread = threading.Thread(target=worker_function)\n",
    "thread.start()\n",
    "thread.join()  "
   ]
  },
  {
   "cell_type": "markdown",
   "id": "073a6faa-7989-4a76-8bd2-09078e505bbd",
   "metadata": {},
   "source": [
    "4. isAlive(): The isAlive() method checks whether a thread is currently running (active) or has completed its execution. It returns True if the thread is still running and False if it has finished."
   ]
  },
  {
   "cell_type": "code",
   "execution_count": 6,
   "id": "bd6edf8a-ab42-4986-b09d-9464c6389525",
   "metadata": {},
   "outputs": [
    {
     "name": "stdout",
     "output_type": "stream",
     "text": [
      "Thread MyThread is working.\n",
      "MyThread is finished.\n",
      "Main thread finishes.\n"
     ]
    }
   ],
   "source": [
    "import threading\n",
    "import time\n",
    "\n",
    "# Function to run in threads\n",
    "def worker_function():\n",
    "    print(f\"Thread {threading.current_thread().name} is working.\")\n",
    "    time.sleep(2)  # Simulate some work\n",
    "\n",
    "# Create, start, and wait for the thread\n",
    "thread = threading.Thread(target=worker_function, name=\"MyThread\")\n",
    "thread.start()\n",
    "thread.join()\n",
    "\n",
    "print(f\"{thread.name} is {'still running' if thread.is_alive() else 'finished'}.\")\n",
    "print(\"Main thread finishes.\")\n"
   ]
  },
  {
   "cell_type": "code",
   "execution_count": null,
   "id": "85d39f45-9a80-4069-9b38-6075a14787c0",
   "metadata": {},
   "outputs": [],
   "source": []
  },
  {
   "cell_type": "markdown",
   "id": "f58c5711-538a-4a65-abd8-22bac906f2a8",
   "metadata": {},
   "source": [
    "Q4. Write a python program to create two threads. Thread one must print the list of squares and thread\n",
    "two must print the list of cubes."
   ]
  },
  {
   "cell_type": "code",
   "execution_count": 7,
   "id": "4a57eec2-6806-430c-a5fc-4366bd6cdc19",
   "metadata": {},
   "outputs": [
    {
     "name": "stdout",
     "output_type": "stream",
     "text": [
      "Square of 1: 1\n",
      "Square of 2: 4\n",
      "Square of 3: 9\n",
      "Square of 4: 16\n",
      "Square of 5: 25\n",
      "Cube of 1: 1\n",
      "Cube of 2: 8\n",
      "Cube of 3: 27\n",
      "Cube of 4: 64\n",
      "Cube of 5: 125\n",
      "Main thread finishes.\n"
     ]
    }
   ],
   "source": [
    "import threading\n",
    "\n",
    "# Function to print squares of numbers\n",
    "def print_squares():\n",
    "    for i in range(1, 6):\n",
    "        print(f\"Square of {i}: {i ** 2}\")\n",
    "\n",
    "# Function to print cubes of numbers\n",
    "def print_cubes():\n",
    "    for i in range(1, 6):\n",
    "        print(f\"Cube of {i}: {i ** 3}\")\n",
    "\n",
    "# Create two threads\n",
    "thread1 = threading.Thread(target=print_squares)\n",
    "thread2 = threading.Thread(target=print_cubes)\n",
    "\n",
    "# Start both threads\n",
    "thread1.start()\n",
    "thread2.start()\n",
    "\n",
    "# Wait for both threads to finish\n",
    "thread1.join()\n",
    "thread2.join()\n",
    "\n",
    "print(\"Main thread finishes.\")\n"
   ]
  },
  {
   "cell_type": "code",
   "execution_count": null,
   "id": "c4af4998-95a2-489b-b7b5-907747fb3c7f",
   "metadata": {},
   "outputs": [],
   "source": []
  },
  {
   "cell_type": "markdown",
   "id": "b35bdba2-3add-4afa-af1c-2affb083ba10",
   "metadata": {},
   "source": [
    "Q5. State advantages and disadvantages of multithreading.\n",
    "\n",
    "ANS:\n",
    "\n",
    "# Advantages of Multithreading:\n",
    "\n",
    "1. Improved Performance: One of the primary advantages of multithreading is improved performance. Multithreaded programs can take advantage of multiple CPU cores, allowing them to perform tasks concurrently. This can lead to faster execution and better resource utilization.\n",
    "\n",
    "2. Responsiveness: Multithreading can enhance the responsiveness of applications, especially in user interfaces and real-time systems. It allows tasks like handling user input and background processing to run independently, ensuring that the application remains responsive.\n",
    "\n",
    "3. Parallelism: Multithreading enables parallelism, which is essential for applications that need to perform multiple tasks simultaneously. Examples include web servers handling multiple client requests and scientific simulations.\n",
    "\n",
    "4. Resource Sharing: Threads within the same process share resources such as memory, which can be more efficient than using multiple separate processes. This allows for easier communication and data sharing between threads.\n",
    "\n",
    "5. Simplified Programming: In some cases, multithreading can simplify program logic. Instead of complex asynchronous code, you can use threads to manage concurrent tasks more naturally.\n",
    "\n",
    "# Disadvantages of Multithreading:\n",
    "\n",
    "1. Complexity: Multithreaded programming can be significantly more complex than single-threaded programming. Dealing with issues like race conditions, deadlocks, and synchronization can be challenging.\n",
    "\n",
    "2. Concurrency Bugs: Multithreaded programs are prone to concurrency-related bugs, which can be difficult to reproduce and debug. These bugs can lead to unpredictable behavior.\n",
    "\n",
    "3. Resource Contention: Threads sharing resources can lead to contention and conflicts. If not managed properly, this contention can reduce the performance benefits of multithreading.\n",
    "\n",
    "4. Overhead: Creating and managing threads incurs overhead, both in terms of memory usage and CPU resources. In some cases, the overhead may outweigh the performance gains.\n",
    "\n",
    "5. Portability: Multithreading can be less portable across different platforms and operating systems due to variations in thread support and behavior.\n",
    "\n",
    "6. Scalability Limits: While multithreading can improve performance on multi-core systems, there are limits to scalability. Adding more threads does not always lead to linear performance improvements, and excessive threading can lead to diminishing returns."
   ]
  },
  {
   "cell_type": "code",
   "execution_count": null,
   "id": "5b441342-dc13-4498-9e7f-7f08e28937f8",
   "metadata": {},
   "outputs": [],
   "source": []
  },
  {
   "cell_type": "markdown",
   "id": "fa545e72-84fb-4cf1-87a4-3934250146b1",
   "metadata": {},
   "source": [
    "Q6. Explain deadlocks and race conditions.\n",
    "\n",
    "ANS:\n",
    "\n",
    "\n",
    "Deadlocks and race conditions are common synchronization problems in multithreaded and concurrent programming:\n",
    "\n",
    "1. Deadlocks:\n",
    "\n",
    "A deadlock is a situation in which two or more threads or processes are unable to proceed because each is waiting for the other to release a resource or take some action. This results in a standstill where none of the threads can make progress. Deadlocks typically involve mutual exclusion, hold and wait, no preemption, and circular waiting.\n",
    "\n",
    "Mutual Exclusion: Multiple threads are competing for exclusive access to a resource or a critical section of code.\n",
    "Hold and Wait: A thread holds one resource and is waiting to acquire another, while other threads are also holding resources and waiting.\n",
    "No Preemption: Resources cannot be forcibly taken away from a thread; they must be released voluntarily.\n",
    "Circular Waiting: A circular chain of threads is each waiting for a resource held by the next thread in the chain.\n",
    "Example: Consider two threads, A and B, where A holds Resource X and is waiting for Resource Y, while B holds Resource Y and is waiting for Resource X. Both threads will be stuck, unable to proceed, resulting in a deadlock.\n",
    "\n",
    "2. Race Conditions:\n",
    "\n",
    "A race condition occurs when two or more threads or processes access shared data concurrently, and the final outcome depends on the timing or order of execution. Race conditions can lead to unpredictable and erroneous behavior because the threads can interfere with each other's operations. Race conditions are usually the result of missing or incorrect synchronization mechanisms.\n",
    "\n",
    "Example: Suppose two threads, T1 and T2, are incrementing a shared variable counter. If both threads read the current value of counter, increment it, and write it back without proper synchronization, they may interfere with each other. For example:\n",
    "\n",
    "T1 reads counter as 5.\n",
    "T2 reads counter as 5.\n",
    "T1 increments it to 6.\n",
    "T2 increments it to 6.\n",
    "Both threads write 6 back to counter.\n",
    "In this scenario, the expected result should have been 7, but due to the race condition, it's 6."
   ]
  },
  {
   "cell_type": "code",
   "execution_count": null,
   "id": "7b890d16-f8d4-4346-8e0c-bf0e95b688fa",
   "metadata": {},
   "outputs": [],
   "source": []
  }
 ],
 "metadata": {
  "kernelspec": {
   "display_name": "Python 3 (ipykernel)",
   "language": "python",
   "name": "python3"
  },
  "language_info": {
   "codemirror_mode": {
    "name": "ipython",
    "version": 3
   },
   "file_extension": ".py",
   "mimetype": "text/x-python",
   "name": "python",
   "nbconvert_exporter": "python",
   "pygments_lexer": "ipython3",
   "version": "3.10.8"
  }
 },
 "nbformat": 4,
 "nbformat_minor": 5
}
